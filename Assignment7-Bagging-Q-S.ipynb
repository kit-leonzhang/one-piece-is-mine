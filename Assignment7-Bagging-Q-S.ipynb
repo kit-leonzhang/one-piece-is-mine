{
 "cells": [
  {
   "cell_type": "markdown",
   "metadata": {},
   "source": [
    "# Assignment 7: Bagging and Boosting\n",
    "\n",
    "Only use the already imported library `numpy`, `matplotlib` and the Python standard library. For the evaluation you may also use scikit-learn (`sklearn`). Make sure that the dataset `titanic.csv` is in the same directory as the notebook.\n",
    "\n",
    "List your team members (name and immatriculation number) and indicate whether you are a B.Sc. Data Science or other group in the following cell:"
   ]
  },
  {
   "cell_type": "markdown",
   "metadata": {},
   "source": [
    "==> *Write*\n",
    "* *names* \n",
    "* *matr. nr.* \n",
    "* *study program*\n",
    "* *B.Sc./M.Sc.*\n",
    "\n",
    "*of all assignment group participants here. (double klick here to edit)*"
   ]
  },
  {
   "cell_type": "code",
   "execution_count": 1,
   "metadata": {},
   "outputs": [],
   "source": [
    "# You are allowed to use the numpy package and the DecisionTreeClassifier.\n",
    "import matplotlib.pyplot as plt\n",
    "import numpy as np\n",
    "from sklearn.tree import DecisionTreeClassifier\n",
    "\n",
    "import pandas as pd\n",
    "from sklearn.model_selection import train_test_split\n",
    "\n",
    "\n",
    "def load_dataset(path):\n",
    "\n",
    "    df = pd.read_csv('titanic.csv')\n",
    "    # The feature engineering mostly follows the notebook by Manav Segal: https://www.kaggle.com/startupsci/titanic-data-science-solutions\n",
    "    # From the Name attribute we can extract titles, which gives insight about the social status/age/gender of the passenger.\n",
    "    df['Title'] = df['Name'].str.extract(' ([a-zA-Z]+)\\.', expand=False)\n",
    "    df['Title'] = df['Title'].replace(['Lady', 'Countess', 'Capt', 'Col', 'Don', 'Dr', 'Major', 'Rev', 'Sir', 'Jonkheer', 'Dona'], 'Rare')\n",
    "    df['Title'] = df['Title'].replace(['Mlle', 'Ms'], 'Miss')\n",
    "    df['Title'] = df['Title'].replace('Mme', 'Mrs')\n",
    "    # We map the Title attribute to a one-hot encoding.\n",
    "    df = df.join(pd.get_dummies(df['Title'], prefix='Title'))\n",
    "\n",
    "    \n",
    "    # We map the Sex attribute to a numeric representation.\n",
    "    df['Sex'] = df['Sex'].map({'female': 1, 'male': 0}).astype(int)\n",
    "\n",
    "    \n",
    "    # We one-hot encode Pclass.\n",
    "    df = df.join(pd.get_dummies(df['Pclass'], prefix='Pclass'))\n",
    "\n",
    "    \n",
    "    # Based on the number of sibling-spouses in SibSp and parents-childern in Parch, \n",
    "    # we can determine whether a passenger was on board alone.\n",
    "    df['IsAlone'] = ((df['SibSp'] + df['Parch'] + 1) == 1).astype(int)\n",
    "\n",
    "    \n",
    "    # We remove all attributes that do not seem relevant to the prediction, or are already encoded in another attribute.\n",
    "    df = df.drop(['PassengerId', 'Name', 'Title', 'Ticket', 'Cabin', 'Parch', 'SibSp'], axis=1)\n",
    "\n",
    "    \n",
    "    # For remaining features, we have to separate train and test, \n",
    "    # as we will impute missing data based on statistics in the training data.\n",
    "    df_train, df_test = train_test_split(df, test_size=0.2, random_state=2020)\n",
    "    # For Embarked, we set all missing values to the most frequent port and then one-hot encode the attribute.\n",
    "    def impute_embarked():    \n",
    "        freq_port = df_train['Embarked'].dropna().mode()[0]\n",
    "        output = []\n",
    "        for df in (df_train, df_test):\n",
    "            df = df.join(pd.get_dummies(df['Embarked'].fillna(freq_port), prefix='Embarked'))\n",
    "            df = df.drop('Embarked', axis=1)\n",
    "            output.append(df)\n",
    "        return output\n",
    "\n",
    "    df_train, df_test = impute_embarked()\n",
    "\n",
    "    # For Age, we set missing values to the median dependent on the pair of Sex and Pclass.\n",
    "    guess_ages = np.zeros((2, 3))\n",
    "    for df in (df_train, df_test):\n",
    "        for i in range(2):\n",
    "            for j in range(3):\n",
    "                guess_ages[i, j] = df[(df['Sex'] == i) & (df['Pclass'] == j+1)]['Age'].dropna().median()\n",
    "        for i in range(2):\n",
    "            for j in range(3):\n",
    "                df.loc[(df['Age'].isnull()) & (df['Sex'] == i) & (df['Pclass'] == j+1), 'Age'] = guess_ages[i, j]\n",
    "        df['Age'] = df['Age'].astype(int)\n",
    "\n",
    "    df_train = df_train.drop(['Pclass'], axis=1)\n",
    "    df_test = df_test.drop(['Pclass'], axis=1)\n",
    "\n",
    "    X_train = df_train.values[:, 1:]\n",
    "    X_test = df_test.values[:, 1:]\n",
    "    y_train = df_train.values[:, 0]\n",
    "    y_test = df_test.values[:, 0]\n",
    "    \n",
    "    return X_train, X_test, y_train, y_test\n",
    "    \n",
    "X_train, X_test, y_train, y_test = load_dataset('titanic.csv')"
   ]
  },
  {
   "cell_type": "markdown",
   "metadata": {},
   "source": [
    "The Titanic dataset and a description can be found at [Kaggle](https://www.kaggle.com/c/titanic/data). The feature engineering mostly follows the work by [Manav Segal](https://www.kaggle.com/startupsci/titanic-data-science-solutions). \n",
    "\n",
    "The prepared dataset contains the following attributes:\n",
    "- Sex: binary (0 = Male, 1 = Female)\n",
    "- Age: integer\n",
    "- Fare: float\n",
    "- Title_{Master, Miss, Mr, Mrs, Rare}: title of passenger (extracted from name), binary, one-hot encoding of categorical variable Title\n",
    "- Pclass_{1, 2, 3}: ticket class corresponds to socio-economic status (1 = upper class, 2 = middle class, 3 = lower class), binary, one-hot encoding of categorical variable Pclass\n",
    "- IsAlone: whether the passenger has no siblings/spouses/parents/children on board, binary\n",
    "- Embarked_{C, Q, S}: port at which passenger embarked (C = Cherbourg, Q = Queenstown, S = Southampton), binary, one-hot encoding of categorical variable Embarked\n",
    "\n",
    "The classification target is:\n",
    "- Survived: binary\n",
    "\n",
    "Data is split into train-test with a 80-20 ratio yielding 712 training and 179 test samples. Train and test data is stored in the variables `(X_train, y_train)` and `(X_test, y_test)` respectively."
   ]
  },
  {
   "cell_type": "markdown",
   "metadata": {},
   "source": [
    "## Task 1: Random Forest (40 Points)\n",
    "\n",
    "In this task, you will implement a random forest classifier using the scikit-learn implementation of the decision tree. \n",
    "\n",
    "Use bootstrap sampling and sample 20% of the original data set for each tree. Randomly select 6 attributes/columns for each trained tree. The prediction of each tree should be weighted equally in the majority vote. Use the already imported class `DecisionTreeClassifier` for your decision trees. You can find the decision tree documentation [here](https://scikit-learn.org/stable/modules/generated/sklearn.tree.DecisionTreeClassifier.html). You may use either the default parameters or experiment with different settings.\n",
    "\n",
    "You will evaluate your model on the test data using scikit-learn with the methods shown in the lecture ([precision, recall, F1-score](https://scikit-learn.org/stable/modules/generated/sklearn.metrics.precision_recall_fscore_support.html#sklearn.metrics.precision_recall_fscore_support), [confusion matrices](https://scikit-learn.org/stable/modules/generated/sklearn.metrics.confusion_matrix.html?highlight=confusion%20matrix#sklearn.metrics.confusion_matrix), ...). Try out different number of trees and compare the performance w.r.t. this parameter. Feel free to import any functions you need from scikit-learn for this purpose. \n"
   ]
  },
  {
   "cell_type": "code",
   "execution_count": 2,
   "metadata": {},
   "outputs": [],
   "source": [
    "class RandomForestClassifier(object):\n",
    "    def __init__(self, number_of_trees, ):\n",
    "        self.number_of_trees = number_of_trees\n",
    "        tree_kwargs = dict(\n",
    "            max_features='auto',\n",
    "            class_weight='balanced'\n",
    "        )\n",
    "        self.trees = [DecisionTreeClassifier(**tree_kwargs) \n",
    "                      for _ in range(self.number_of_trees)]\n",
    "        self.tree_features = None\n",
    "        self.ncols = 6\n",
    "        \n",
    "    def fit(self, X, y):\n",
    "        np.random.seed(2020)\n",
    "        feature_idx = np.arange(X.shape[1])\n",
    "        bootstrap_idx = np.arange(X.shape[0])\n",
    "        bootstrap_size = int(0.2 * X.shape[0]) + 1\n",
    "        self.tree_features = []\n",
    "        \n",
    "        for i in range(self.number_of_trees):\n",
    "            np.random.shuffle(feature_idx)\n",
    "            np.random.shuffle(bootstrap_idx)\n",
    "            X_b = X[bootstrap_idx[:bootstrap_size]][:, feature_idx[:self.ncols]]\n",
    "            y_b = y[bootstrap_idx[:bootstrap_size]]\n",
    "            \n",
    "            self.trees[i].fit(X_b, y_b)\n",
    "            # Save copy of feature indices.\n",
    "            self.tree_features.append(feature_idx[:self.ncols])\n",
    "            \n",
    "    def predict(self, X):\n",
    "        yhats = np.zeros((self.number_of_trees, X.shape[0]))\n",
    "        for i in range(self.number_of_trees):\n",
    "            yhats[i] = self.trees[i].predict(X[:, self.tree_features[i]])\n",
    "        yhats = yhats.astype(int)\n",
    "        yhat = np.apply_along_axis(lambda x: np.bincount(x).argmax(), axis=0, arr=yhats)\n",
    "        return yhat\n"
   ]
  },
  {
   "cell_type": "code",
   "execution_count": 3,
   "metadata": {},
   "outputs": [
    {
     "name": "stdout",
     "output_type": "stream",
     "text": [
      "Best F1-score 0.73 for number_of_trees = 125.\n"
     ]
    },
    {
     "data": {
      "image/png": "[encoded data removed]",
      "text/plain": [
       "<Figure size 432x288 with 1 Axes>"
      ]
     },
     "metadata": {
      "needs_background": "light"
     },
     "output_type": "display_data"
    },
    {
     "data": {
      "image/png": "[encoded data removed]",
      "text/plain": [
       "<Figure size 432x288 with 1 Axes>"
      ]
     },
     "metadata": {
      "needs_background": "light"
     },
     "output_type": "display_data"
    }
   ],
   "source": [
    "# Implement your training and evaluation here.\n",
    "import matplotlib.pyplot as plt\n",
    "from sklearn.metrics import confusion_matrix, precision_recall_fscore_support\n",
    "\n",
    "number_of_trees = [1] + list(range(5, 205, 5))\n",
    "f1scores = []\n",
    "best_forest = None\n",
    "for t in number_of_trees:\n",
    "    np.random.seed()\n",
    "    random_forest = RandomForestClassifier(t)\n",
    "    random_forest.fit(X_train, y_train)\n",
    "    yhat = random_forest.predict(X_test)\n",
    "    f1score = precision_recall_fscore_support(y_test, yhat, average='micro')[2]\n",
    "    if f1score > max(f1scores + [0.0]):\n",
    "        best_forest = random_forest\n",
    "    f1scores.append(f1score)\n",
    "\n",
    "best_forest_idx = np.argmax(f1scores)\n",
    "best_f1score = f1scores[best_forest_idx]\n",
    "print(f'Best F1-score {best_f1score:.02f} for number_of_trees = {number_of_trees[best_forest_idx]}.')\n",
    "    \n",
    "fig, ax = plt.subplots()\n",
    "ax.bar(number_of_trees, f1scores)\n",
    "ax.set_xlabel('number of trees')\n",
    "ax.set_ylabel('F1 (micro)')\n",
    "ax.set_title('F1-score for different forest sizes')\n",
    "\n",
    "fig, ax = plt.subplots()\n",
    "cm = confusion_matrix(y_test, yhat)\n",
    "ax.imshow(cm, cmap='Reds')\n",
    "ax.set_xticks([0, 1])\n",
    "ax.set_xticklabels(['survived', 'dead'])\n",
    "ax.set_xlabel('predicted')\n",
    "ax.set_yticks([0, 1])\n",
    "ax.set_yticklabels(['survived', 'dead'])\n",
    "ax.set_ylabel('true')\n",
    "for i in range(2):\n",
    "    for j in range(2):\n",
    "        ax.text(i, j, cm[j, i])\n",
    "ax.set_title('Confusion matrix for best performing forest');"
   ]
  },
  {
   "cell_type": "markdown",
   "metadata": {},
   "source": [
    "## Task 2: Interpreting Random Forests (40 Points)\n",
    "\n",
    "Implement the mean decrease of accuracy for the [sklearn.ensemble.RandomForestClassifier](https://scikit-learn.org/stable/modules/generated/sklearn.ensemble.RandomForestClassifier.html) `forest` to analyse learned attribute importances. Use the test set `X_test` and `y_test` as out-of-bag-samples. Permute the values of the assessed attribute by randomly shuffling the corresponding column. Plot the results to compare the importance of each feature. Discuss your results (are any importance values surprising, do the results make sense in the context of the task, ...).\n",
    "\n",
    "Note: We have already trained the classifier and stored it in the variable `forest`. You only need to implement MDA and the plots for your results."
   ]
  },
  {
   "cell_type": "code",
   "execution_count": 4,
   "metadata": {},
   "outputs": [
    {
     "name": "stdout",
     "output_type": "stream",
     "text": [
      "Precision: 0.7597765363128491\n",
      "Recall: 0.7597765363128491\n",
      "F1-score: 0.7597765363128491\n"
     ]
    }
   ],
   "source": [
    "def create_forest():\n",
    "    import sklearn.ensemble\n",
    "    import sklearn.metrics\n",
    "    forest = sklearn.ensemble.RandomForestClassifier(115)\n",
    "    forest.fit(X_train, y_train)\n",
    "    prec, rec, f1, _ = sklearn.metrics.precision_recall_fscore_support(y_test, forest.predict(X_test), average='micro')\n",
    "    print('Precision:', prec)\n",
    "    print('Recall:', rec)\n",
    "    print('F1-score:', f1)\n",
    "    return forest\n",
    "\n",
    "forest = create_forest()"
   ]
  },
  {
   "cell_type": "code",
   "execution_count": 5,
   "metadata": {},
   "outputs": [
    {
     "data": {
      "text/plain": [
       "array([[  1.  ,  22.  , 151.55, ...,   0.  ,   0.  ,   1.  ],\n",
       "       [  1.  ,  24.  ,  13.  , ...,   0.  ,   0.  ,   1.  ],\n",
       "       [  1.  ,  36.  ,  13.  , ...,   0.  ,   0.  ,   1.  ],\n",
       "       ...,\n",
       "       [  0.  ,  27.  ,   0.  , ...,   0.  ,   0.  ,   1.  ],\n",
       "       [  0.  ,  23.  ,  10.5 , ...,   0.  ,   0.  ,   1.  ],\n",
       "       [  1.  ,  58.  ,  26.55, ...,   0.  ,   0.  ,   1.  ]])"
      ]
     },
     "execution_count": 5,
     "metadata": {},
     "output_type": "execute_result"
    }
   ],
   "source": [
    "X_test"
   ]
  },
  {
   "cell_type": "code",
   "execution_count": 11,
   "metadata": {},
   "outputs": [
    {
     "data": {
      "image/png": "[encoded data removed]",
      "text/plain": [
       "<Figure size 432x288 with 1 Axes>"
      ]
     },
     "metadata": {
      "needs_background": "light"
     },
     "output_type": "display_data"
    }
   ],
   "source": [
    "import random\n",
    "\n",
    "def accuracy(y_true, y_pred):\n",
    "    return np.sum(y_true == y_pred) / y_true.size\n",
    "\n",
    "\n",
    "def shuffle(x):\n",
    "    return np.array(random.sample(list(x), x.size))\n",
    "\n",
    "\n",
    "accuracy_orig = accuracy(y_test, forest.predict(X_test))\n",
    "\n",
    "repeats = 50\n",
    "num_attributes = X_test.shape[1]\n",
    "mdas = []\n",
    "\n",
    "\n",
    "for i in range(num_attributes):\n",
    "    mda = 0.0\n",
    "    # repeats ensure that the shift in accuracy does not occur by chance\n",
    "    for j in range(repeats):\n",
    "        X_shuffled = X_test.copy()\n",
    "        X_shuffled[:, i] = shuffle(X_shuffled[:, i])\n",
    "        accuracy_shuffled = accuracy(y_test, forest.predict(X_shuffled))\n",
    "        mda += (accuracy_orig - accuracy_shuffled)\n",
    "    mda /= float(repeats)\n",
    "    mdas.append(mda)\n",
    "\n",
    "attribute_names = ['Sex', 'Age', 'Fare', 'Title_Master', 'Title_Miss', \n",
    "                   'Title_Mr', 'Title_Mrs', 'Title_Rare', 'Pclass_1', 'Pclass_2',\n",
    "                   'Pclass_3', 'IsAlone', 'Embarked_C', 'Embarked_Q', 'Embarked_S']\n",
    "\n",
    "fig, ax = plt.subplots()\n",
    "ax.barh(list(range(num_attributes)), mdas)\n",
    "ax.set_yticks(list(range(num_attributes)))\n",
    "ax.set_yticklabels(attribute_names);"
   ]
  },
  {
   "cell_type": "markdown",
   "metadata": {},
   "source": [
    "## Task 3: Discrete AdaBoost with Decision Stumps (20 Points) - For all students other than B.Sc. Data Science \n",
    "\n",
    "In this task, you will implement the discrete AdaBoost algorithm using decision stumps as weak learners. Your training will run until either `n_learners` weak learners have been added or a perfect accuracy on the training data set is achieved. Use the function `initialize_decision_stumps` to create decision stumps, which you can train on your weighted data using `fit` and predict using `predict`. The decision stumps are instances of the class [sklearn.tree.DecisionTreeClassifier](https://scikit-learn.org/stable/modules/generated/sklearn.tree.DecisionTreeClassifier.html).\n",
    "\n",
    "In addition, you will evaluate your model on the test data (`X_test`, `y_test`) using scikit-learn with the methods shown in the lecture (precision, recall, F1-score, confusion matrices, ...). Feel free to import any functions you need from scikit-learn for this purpose."
   ]
  },
  {
   "cell_type": "code",
   "execution_count": 9,
   "metadata": {},
   "outputs": [],
   "source": [
    "def initialize_decision_stump():\n",
    "    stump = DecisionTreeClassifier(criterion='entropy', max_depth=1)\n",
    "    return stump\n",
    "\n",
    "\n",
    "class AdaBoostClassifier(object):\n",
    "    def __init__(self, n_learners):\n",
    "        self.n_learners = n_learners\n",
    "        self.learners = None\n",
    "        self.weights = None\n",
    "        self.coefficients = None\n",
    "    \n",
    "    def fit(self, X, y):\n",
    "        self.learners = []\n",
    "        self.coefficients = []\n",
    "        self.weights = 1.0/y.shape[0] * np.ones((y.shape[0],))\n",
    "        \n",
    "        for i in range(self.n_learners):\n",
    "            learner = initialize_decision_stump()\n",
    "            learner.fit(X, y, sample_weight=self.weights)\n",
    "            yhat = learner.predict(X)\n",
    "            error = self._weighted_error(y, yhat)\n",
    "            expansion_coeff = np.log((1 - error) / error)\n",
    "            \n",
    "            self.weights = self.weights * np.exp(expansion_coeff * (y != yhat))\n",
    "            self.learners.append(learner)\n",
    "            self.coefficients.append(expansion_coeff)\n",
    "            \n",
    "        self.coefficients = np.array(self.coefficients)\n",
    "    \n",
    "    def predict(self, X):\n",
    "        yhat = np.zeros((X.shape[0],))\n",
    "        for learner, coef in zip(self.learners, self.coefficients):\n",
    "            yhat += coef * (2 * learner.predict(X) - 1)\n",
    "        yhat = ((np.sign(yhat) + 1) / 2).astype(int)\n",
    "        return yhat\n",
    "    \n",
    "    def _weighted_error(self, y_true, y_pred):\n",
    "        return np.sum((y_true != y_pred).astype(float) * self.weights) / np.sum(self.weights)\n"
   ]
  },
  {
   "cell_type": "code",
   "execution_count": 10,
   "metadata": {},
   "outputs": [
    {
     "name": "stdout",
     "output_type": "stream",
     "text": [
      "Best F1-score 0.79 for number_of_trees = 85.\n"
     ]
    },
    {
     "data": {
      "image/png": "[encoded data removed]",
      "text/plain": [
       "<Figure size 432x288 with 1 Axes>"
      ]
     },
     "metadata": {
      "needs_background": "light"
     },
     "output_type": "display_data"
    },
    {
     "data": {
      "image/png": "[encoded data removed]",
      "text/plain": [
       "<Figure size 432x288 with 1 Axes>"
      ]
     },
     "metadata": {
      "needs_background": "light"
     },
     "output_type": "display_data"
    }
   ],
   "source": [
    "# Implement your training and evaluation here.\n",
    "import matplotlib.pyplot as plt\n",
    "from sklearn.metrics import confusion_matrix, precision_recall_fscore_support\n",
    "\n",
    "number_of_learners = list(range(1, 100, 1))\n",
    "\n",
    "f1scores = []\n",
    "best_adaboost = None\n",
    "\n",
    "for l in number_of_learners:\n",
    "    np.random.seed(2020)\n",
    "    \n",
    "    adaboost = AdaBoostClassifier(l)\n",
    "    adaboost.fit(X_train, y_train)\n",
    "    yhat = adaboost.predict(X_test)\n",
    "    f1score = precision_recall_fscore_support(y_test, yhat, average='micro')[2]\n",
    "    if f1score > max(f1scores + [0.0]):\n",
    "        best_adaboost = adaboost\n",
    "    f1scores.append(f1score)\n",
    "\n",
    "best_adaboost_idx = np.argmax(f1scores)\n",
    "best_f1score = f1scores[best_adaboost_idx]\n",
    "print(f'Best F1-score {best_f1score:.02f} for number_of_trees = {number_of_learners[best_adaboost_idx]}.')\n",
    "    \n",
    "fig, ax = plt.subplots()\n",
    "ax.plot(number_of_learners, f1scores)\n",
    "ax.set_xlabel('number of learners')\n",
    "ax.set_ylabel('F1 (micro)')\n",
    "ax.set_title('F1-score for different numbers of learners')\n",
    "\n",
    "fig, ax = plt.subplots()\n",
    "cm = confusion_matrix(y_test, yhat)\n",
    "ax.imshow(cm, cmap='Reds')\n",
    "ax.set_xticks([0, 1])\n",
    "ax.set_xticklabels(['survived', 'dead'])\n",
    "ax.set_xlabel('predicted')\n",
    "ax.set_yticks([0, 1])\n",
    "ax.set_yticklabels(['survived', 'dead'])\n",
    "ax.set_ylabel('true')\n",
    "for i in range(2):\n",
    "    for j in range(2):\n",
    "        ax.text(i, j, cm[j, i])\n",
    "ax.set_title(f'Confusion matrix for best performing AdaBoost with {number_of_learners[best_adaboost_idx]} learners');"
   ]
  }
 ],
 "metadata": {
  "kernelspec": {
   "display_name": "Python 3",
   "language": "python",
   "name": "python3"
  },
  "language_info": {
   "codemirror_mode": {
    "name": "ipython",
    "version": 3
   },
   "file_extension": ".py",
   "mimetype": "text/x-python",
   "name": "python",
   "nbconvert_exporter": "python",
   "pygments_lexer": "ipython3",
   "version": "3.9.4"
  }
 },
 "nbformat": 4,
 "nbformat_minor": 1
}
